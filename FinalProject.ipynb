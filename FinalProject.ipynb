{
  "metadata": {
    "kernelspec": {
      "name": "python",
      "display_name": "Python (Pyodide)",
      "language": "python"
    },
    "language_info": {
      "codemirror_mode": {
        "name": "python",
        "version": 3
      },
      "file_extension": ".py",
      "mimetype": "text/x-python",
      "name": "python",
      "nbconvert_exporter": "python",
      "pygments_lexer": "ipython3",
      "version": "3.8"
    }
  },
  "nbformat_minor": 4,
  "nbformat": 4,
  "cells": [
    {
      "cell_type": "markdown",
      "source": "# Data Science Tools and Ecosystem",
      "metadata": {}
    },
    {
      "cell_type": "markdown",
      "source": "## Introduction\nThis notebook summarizes key tools, languages, libraries, and concepts in data science, including examples of arithmetic operations and conversions.",
      "metadata": {}
    },
    {
      "cell_type": "markdown",
      "source": "## Data Science Languages\n- Python\n- R\n- SQL\n- Julia\n- Scala",
      "metadata": {}
    },
    {
      "cell_type": "markdown",
      "source": "## Data Science Libraries\n- Pandas\n- NumPy\n- Matplotlib\n- Scikit-learn\n- TensorFlow",
      "metadata": {}
    },
    {
      "cell_type": "markdown",
      "source": "## Data Science Tools\n| Tool          | Description                          |\n|---------------|--------------------------------------|\n| Jupyter       | Interactive notebook environment     |\n| RStudio       | IDE for R programming                |\n| Apache Spark  | Big data processing framework        |",
      "metadata": {}
    },
    {
      "cell_type": "markdown",
      "source": "## Arithmetic Expression Examples\n",
      "metadata": {}
    },
    {
      "cell_type": "code",
      "source": "Addition: 5 + 3 = 8\nMultiplication: 4 * 2 = 8\nDivision: 10 / 2 = 5",
      "metadata": {
        "trusted": true
      },
      "outputs": [],
      "execution_count": 5
    },
    {
      "cell_type": "markdown",
      "source": "# Multiplication and addition\n",
      "metadata": {}
    },
    {
      "cell_type": "code",
      "source": "a = 5\nb = 3\nresult = (a * b) + 2\nprint(f\"Result of ({a} * {b}) + 2 = {result}\")",
      "metadata": {
        "trusted": true
      },
      "outputs": [
        {
          "name": "stdout",
          "text": "Result of (5 * 3) + 2 = 17\n",
          "output_type": "stream"
        }
      ],
      "execution_count": 3
    },
    {
      "cell_type": "code",
      "source": "# Convert minutes to hours\nminutes = 120\nhours = minutes / 60\nprint(f\"{minutes} minutes is equal to {hours} hours\")",
      "metadata": {
        "trusted": true
      },
      "outputs": [
        {
          "name": "stdout",
          "text": "120 minutes is equal to 2.0 hours\n",
          "output_type": "stream"
        }
      ],
      "execution_count": 6
    },
    {
      "cell_type": "markdown",
      "source": "## Objectives\n- List key data science languages and libraries.\n- Demonstrate arithmetic operations in Python.\n- Convert units (e.g., minutes to hours).\n- Share the notebook publicly via GitHub.",
      "metadata": {}
    },
    {
      "cell_type": "markdown",
      "source": "## Author\n[Timothee Nkwar]",
      "metadata": {}
    }
  ]
}