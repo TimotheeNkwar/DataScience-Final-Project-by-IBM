{
  "cells": [
    {
      "cell_type": "markdown",
      "metadata": {},
      "source": [
        "# Data Science Tools and Ecosystem"
      ]
    },
    {
      "cell_type": "code",
      "execution_count": 5,
      "metadata": {},
      "outputs": [],
      "source": [
        "import yfinance as yf\n",
        "import pandas as pd\n",
        "import requests\n",
        "from bs4 import BeautifulSoup\n",
        "import plotly.graph_objects as go\n",
        "from plotly.subplots import make_subplots\n",
        "\n",
        "# Helper function to create dashboard\n",
        "def make_stock_revenue_plot(ticker, stock_data, revenue_data, company_name):\n",
        "    # Create a subplot with two y-axes\n",
        "    fig = make_subplots(specs=[[{\"secondary_y\": True}]])\n",
        "    \n",
        "    # Add stock price trace\n",
        "    fig.add_trace(\n",
        "        go.Scatter(x=stock_data.index, y=stock_data['Close'], name=f\"{company_name} Stock Price\", line=dict(color='blue')),\n",
        "        secondary_y=False,\n",
        "    )\n",
        "    \n",
        "    # Add revenue trace\n",
        "    fig.add_trace(\n",
        "        go.Scatter(x=revenue_data['Date'], y=revenue_data['Revenue'], name=f\"{company_name} Revenue\", line=dict(color='green')),\n",
        "        secondary_y=True,\n",
        "    )\n",
        "    \n",
        "    # Update layout\n",
        "    fig.update_layout(\n",
        "        title_text=f\"{company_name} Stock Price and Revenue\",\n",
        "        xaxis_title=\"Date\",\n",
        "        yaxis_title=\"Stock Price (USD)\",\n",
        "        yaxis2_title=\"Revenue (USD Millions)\",\n",
        "        legend=dict(x=0, y=1.1, orientation=\"h\")\n",
        "    )\n",
        "    \n",
        "    return fig\n",
        "\n",
        "\n",
        "\n",
        "\n",
        "\n",
        "\n"
      ]
    },
    {
      "cell_type": "code",
      "execution_count": 6,
      "metadata": {},
      "outputs": [],
      "source": [
        "# Question 1: Extract Tesla Stock Data Using yfinance\n",
        "def get_tesla_stock_data():\n",
        "    tesla = yf.Ticker(\"TSLA\")\n",
        "    tesla_stock = tesla.history(period=\"5y\")  # 5 years of data\n",
        "    tesla_stock.reset_index(inplace=True)\n",
        "    tesla_stock['Date'] = pd.to_datetime(tesla_stock['Date'])\n",
        "    return tesla_stock\n"
      ]
    },
    {
      "cell_type": "code",
      "execution_count": 7,
      "metadata": {},
      "outputs": [],
      "source": [
        "# Question 2: Extract Tesla Revenue Data Using Webscraping\n",
        "def get_tesla_revenue_data():\n",
        "    url = \"https://www.macrotrends.net/stocks/charts/TSLA/tesla/revenue\"\n",
        "    headers = {'User-Agent': 'Mozilla/5.0'}\n",
        "    response = requests.get(url, headers=headers)\n",
        "    soup = BeautifulSoup(response.text, 'html.parser')\n",
        "    \n",
        "    # Find the quarterly revenue table\n",
        "    table = soup.find_all('table')[1]  # Second table is usually quarterly revenue\n",
        "    rows = table.find_all('tr')[1:]  # Skip header\n",
        "    \n",
        "    dates = []\n",
        "    revenues = []\n",
        "    \n",
        "    for row in rows:\n",
        "        cols = row.find_all('td')\n",
        "        date = cols[0].text.strip()\n",
        "        revenue = cols[1].text.strip().replace('$', '').replace(',', '')\n",
        "        if revenue:  # Only include non-empty revenue values\n",
        "            dates.append(date)\n",
        "            revenues.append(float(revenue))\n",
        "    \n",
        "    tesla_revenue = pd.DataFrame({'Date': pd.to_datetime(dates), 'Revenue': revenues})\n",
        "    tesla_revenue.sort_values('Date', inplace=True)\n",
        "    return tesla_revenue"
      ]
    },
    {
      "cell_type": "code",
      "execution_count": 8,
      "metadata": {},
      "outputs": [],
      "source": [
        "\n",
        "\n",
        "# Question 3: Extract GameStop Stock Data Using yfinance\n",
        "def get_gamestop_stock_data():\n",
        "    gamestop = yf.Ticker(\"GME\")\n",
        "    gamestop_stock = gamestop.history(period=\"5y\")  # 5 years of data\n",
        "    gamestop_stock.reset_index(inplace=True)\n",
        "    gamestop_stock['Date'] = pd.to_datetime(gamestop_stock['Date'])\n",
        "    return gamestop_stock"
      ]
    },
    {
      "cell_type": "code",
      "execution_count": 14,
      "metadata": {},
      "outputs": [
        {
          "ename": "NameError",
          "evalue": "name 'response' is not defined",
          "output_type": "error",
          "traceback": [
            "\u001b[31m---------------------------------------------------------------------------\u001b[39m",
            "\u001b[31mNameError\u001b[39m                                 Traceback (most recent call last)",
            "\u001b[36mCell\u001b[39m\u001b[36m \u001b[39m\u001b[32mIn[14]\u001b[39m\u001b[32m, line 7\u001b[39m\n\u001b[32m      5\u001b[39m     response = requests.get(url, headers=headers)\n\u001b[32m      6\u001b[39m     soup = BeautifulSoup(response.text, \u001b[33m'\u001b[39m\u001b[33mhtml.parser\u001b[39m\u001b[33m'\u001b[39m)\n\u001b[32m----> \u001b[39m\u001b[32m7\u001b[39m soup = BeautifulSoup(\u001b[43mresponse\u001b[49m.text, \u001b[33m'\u001b[39m\u001b[33mhtml.parser\u001b[39m\u001b[33m'\u001b[39m)  \n\u001b[32m      8\u001b[39m     \u001b[38;5;66;03m# Find the quarterly revenue table\u001b[39;00m\n\u001b[32m      9\u001b[39m table = soup.find_all(\u001b[33m'\u001b[39m\u001b[33mtable\u001b[39m\u001b[33m'\u001b[39m)[\u001b[32m1\u001b[39m]  \u001b[38;5;66;03m# Second table is usually quarterly revenue\u001b[39;00m\n",
            "\u001b[31mNameError\u001b[39m: name 'response' is not defined"
          ]
        }
      ],
      "source": [
        "\n",
        "# Question 4: Extract GameStop Revenue Data Using Webscraping\n",
        "def get_gamestop_revenue_data():\n",
        "    url = \"https://www.macrotrends.net/stocks/charts/GME/gamestop/revenue\"\n",
        "    headers = {'User-Agent': 'Mozilla/5.0'}\n",
        "    response = requests.get(url, headers=headers)\n",
        "    soup = BeautifulSoup(response.text, 'html.parser')\n",
        "soup = BeautifulSoup(response.text, 'html.parser')  \n",
        "    # Find the quarterly revenue table\n",
        "table = soup.find_all('table')[1]  # Second table is usually quarterly revenue\n",
        "rows = table.find_all('tr')[1:]  # Skip header\n",
        "    \n",
        "dates = []\n",
        "revenues = []\n",
        "    \n",
        "for row in rows:\n",
        "    cols = row.find_all('td')\n",
        "    date = cols[0].text.strip()\n",
        "    revenue = cols[1].text.strip().replace('$', '').replace(',', '')\n",
        "    if revenue:  # Only include non-empty revenue values\n",
        "        dates.append(date)\n",
        "        revenues.append(float(revenue))\n",
        "    \n",
        "gamestop_revenue = pd.DataFrame({'Date': pd.to_datetime(dates), 'Revenue': revenues})\n",
        "gamestop_revenue.sort_values('Date', inplace=True)\n",
        "return gamestop_revenue"
      ]
    },
    {
      "cell_type": "code",
      "execution_count": null,
      "metadata": {},
      "outputs": [
        {
          "ename": "NameError",
          "evalue": "name 'response' is not defined",
          "output_type": "error",
          "traceback": [
            "\u001b[31m---------------------------------------------------------------------------\u001b[39m",
            "\u001b[31mNameError\u001b[39m                                 Traceback (most recent call last)",
            "\u001b[36mCell\u001b[39m\u001b[36m \u001b[39m\u001b[32mIn[13]\u001b[39m\u001b[32m, line 1\u001b[39m\n\u001b[32m----> \u001b[39m\u001b[32m1\u001b[39m soup = BeautifulSoup(\u001b[43mresponse\u001b[49m.text, \u001b[33m'\u001b[39m\u001b[33mhtml.parser\u001b[39m\u001b[33m'\u001b[39m)  \n\u001b[32m      2\u001b[39m     \u001b[38;5;66;03m# Find the quarterly revenue table\u001b[39;00m\n\u001b[32m      3\u001b[39m table = soup.find_all(\u001b[33m'\u001b[39m\u001b[33mtable\u001b[39m\u001b[33m'\u001b[39m)[\u001b[32m1\u001b[39m]  \u001b[38;5;66;03m# Second table is usually quarterly revenue\u001b[39;00m\n",
            "\u001b[31mNameError\u001b[39m: name 'response' is not defined"
          ]
        }
      ],
      "source": [
        "e"
      ]
    },
    {
      "cell_type": "code",
      "execution_count": null,
      "metadata": {},
      "outputs": [],
      "source": [
        "# Main execution\n",
        "if __name__ == \"__main__\":\n",
        "    # Question 1: Tesla Stock Data\n",
        "    tesla_stock = get_tesla_stock_data()\n",
        "    print(\"Tesla Stock Data:\")\n",
        "    print(tesla_stock[['Date', 'Close']].head())\n",
        "    \n"
      ]
    },
    {
      "cell_type": "code",
      "execution_count": null,
      "metadata": {},
      "outputs": [],
      "source": [
        "    # Question 2: Tesla Revenue Data\n",
        "tesla_revenue = get_tesla_revenue_data()\n",
        "print(\"\\nTesla Revenue Data:\")\n",
        "print(tesla_revenue.head())\n",
        "    \n",
        "  \n",
        " "
      ]
    },
    {
      "cell_type": "code",
      "execution_count": null,
      "metadata": {},
      "outputs": [],
      "source": [
        "  # Question 3: GameStop Stock Data\n",
        "gamestop_stock = get_gamestop_stock_data()\n",
        "print(\"\\nGameStop Stock Data:\")\n",
        "print(gamestop_stock[['Date', 'Close']].head())\n",
        "    "
      ]
    },
    {
      "cell_type": "code",
      "execution_count": null,
      "metadata": {},
      "outputs": [],
      "source": [
        "\n",
        " # Question 4: GameStop Revenue Data\n",
        "gamestop_revenue = get_gamestop_revenue_data()\n",
        "print(\"\\nGameStop Revenue Data:\")\n",
        "print(gamestop_revenue.head())\n",
        "    "
      ]
    },
    {
      "cell_type": "code",
      "execution_count": null,
      "metadata": {},
      "outputs": [],
      "source": [
        "\n",
        "    # Question 5: Tesla Stock and Revenue Dashboard\n",
        "tesla_dashboard = make_stock_revenue_plot(\"TSLA\", tesla_stock, tesla_revenue, \"Tesla\")\n",
        "tesla_dashboard.show()\n",
        "   "
      ]
    },
    {
      "cell_type": "code",
      "execution_count": null,
      "metadata": {},
      "outputs": [],
      "source": [
        " \n",
        "    # Question 6: GameStop Stock and Revenue Dashboard\n",
        "gamestop_dashboard = make_stock_revenue_plot(\"GME\", gamestop_stock, gamestop_revenue, \"GameStop\")\n",
        "gamestop_dashboard.show()\n",
        "    "
      ]
    },
    {
      "cell_type": "code",
      "execution_count": null,
      "metadata": {},
      "outputs": [],
      "source": [
        "\n",
        "    # Question 7: Instructions for Sharing Notebook\n",
        "    print(\"\"\"\n",
        "    To share your assignment notebook:\n",
        "    1. Save this notebook (.ipynb file).\n",
        "    2. Upload it to a platform like GitHub, Google Drive, or Jupyter Notebook sharing service.\n",
        "    3. Ensure the notebook includes all code, outputs, and dashboards.\n",
        "    4. Provide the link to your instructor or submit as per assignment guidelines.\n",
        "    5. Take screenshots of the dashboards (Tesla and GameStop) and include them in your submission.\"\"\")"
      ]
    }
  ],
  "metadata": {
    "kernelspec": {
      "display_name": "Timo",
      "language": "python",
      "name": "python3"
    },
    "language_info": {
      "codemirror_mode": {
        "name": "ipython",
        "version": 3
      },
      "file_extension": ".py",
      "mimetype": "text/x-python",
      "name": "python",
      "nbconvert_exporter": "python",
      "pygments_lexer": "ipython3",
      "version": "3.13.2"
    }
  },
  "nbformat": 4,
  "nbformat_minor": 4
}
