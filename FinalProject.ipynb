{
  "cells": [
    {
      "cell_type": "markdown",
      "metadata": {},
      "source": [
        "# Data Science Tools and Ecosystem"
      ]
    },
    {
      "cell_type": "markdown",
      "metadata": {},
      "source": [
        "## Introduction\n",
        "This notebook summarizes key tools, languages, libraries, and concepts in data science, including examples of arithmetic operations and conversions."
      ]
    },
    {
      "cell_type": "markdown",
      "metadata": {},
      "source": [
        "## Data Science Languages\n",
        "- Python\n",
        "- R\n",
        "- SQL\n",
        "- Julia\n",
        "- Scala"
      ]
    },
    {
      "cell_type": "markdown",
      "metadata": {},
      "source": [
        "## Data Science Libraries\n",
        "- Pandas\n",
        "- NumPy\n",
        "- Matplotlib\n",
        "- Scikit-learn\n",
        "- TensorFlow"
      ]
    },
    {
      "cell_type": "markdown",
      "metadata": {},
      "source": [
        "## Data Science Tools\n",
        "| Tool          | Description                          |\n",
        "|---------------|--------------------------------------|\n",
        "| Jupyter       | Interactive notebook environment     |\n",
        "| RStudio       | IDE for R programming                |\n",
        "| Apache Spark  | Big data processing framework        |"
      ]
    },
    {
      "cell_type": "markdown",
      "metadata": {},
      "source": [
        "## Arithmetic Expression Examples\n"
      ]
    },
    {
      "cell_type": "code",
      "execution_count": 5,
      "metadata": {
        "trusted": true
      },
      "outputs": [],
      "source": [
        "Addition: 5 + 3 = 8\n",
        "Multiplication: 4 * 2 = 8\n",
        "Division: 10 / 2 = 5"
      ]
    },
    {
      "cell_type": "markdown",
      "metadata": {},
      "source": [
        "# Multiplication and addition\n"
      ]
    },
    {
      "cell_type": "code",
      "execution_count": 3,
      "metadata": {
        "trusted": true
      },
      "outputs": [
        {
          "name": "stdout",
          "output_type": "stream",
          "text": [
            "Result of (5 * 3) + 2 = 17\n"
          ]
        }
      ],
      "source": [
        "a = 5\n",
        "b = 3\n",
        "result = (a * b) + 2\n",
        "print(f\"Result of ({a} * {b}) + 2 = {result}\")"
      ]
    },
    {
      "cell_type": "code",
      "execution_count": 6,
      "metadata": {
        "trusted": true
      },
      "outputs": [
        {
          "name": "stdout",
          "output_type": "stream",
          "text": [
            "120 minutes is equal to 2.0 hours\n"
          ]
        }
      ],
      "source": [
        "# Convert minutes to hours\n",
        "minutes = 120\n",
        "hours = minutes / 60\n",
        "print(f\"{minutes} minutes is equal to {hours} hours\")"
      ]
    },
    {
      "cell_type": "markdown",
      "metadata": {},
      "source": [
        "## Objectives\n",
        "- List key data science languages and libraries.\n",
        "- Demonstrate arithmetic operations in Python.\n",
        "- Convert units (e.g., minutes to hours).\n",
        "- Share the notebook publicly via GitHub."
      ]
    },
    {
      "cell_type": "markdown",
      "metadata": {},
      "source": [
        "## Author\n",
        "[Timothee Nkwar]"
      ]
    }
  ],
  "metadata": {
    "kernelspec": {
      "display_name": "Timo",
      "language": "python",
      "name": "python3"
    },
    "language_info": {
      "codemirror_mode": {
        "name": "python",
        "version": 3
      },
      "file_extension": ".py",
      "mimetype": "text/x-python",
      "name": "python",
      "nbconvert_exporter": "python",
      "pygments_lexer": "ipython3",
      "version": "3.13.2"
    }
  },
  "nbformat": 4,
  "nbformat_minor": 4
}
